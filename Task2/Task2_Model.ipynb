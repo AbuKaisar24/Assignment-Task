{
  "nbformat": 4,
  "nbformat_minor": 0,
  "metadata": {
    "colab": {
      "name": "Task2_Model.ipynb",
      "provenance": []
    },
    "kernelspec": {
      "name": "python3",
      "display_name": "Python 3"
    },
    "accelerator": "GPU"
  },
  "cells": [
    {
      "cell_type": "code",
      "metadata": {
        "id": "p1P226Mats5D",
        "colab_type": "code",
        "outputId": "e1e245a6-bbb5-45a4-a837-dfd383b78a04",
        "colab": {
          "base_uri": "https://localhost:8080/",
          "height": 35
        }
      },
      "source": [
        "from google.colab import drive\n",
        "drive.mount('/content/gdrive')"
      ],
      "execution_count": 0,
      "outputs": [
        {
          "output_type": "stream",
          "text": [
            "Drive already mounted at /content/gdrive; to attempt to forcibly remount, call drive.mount(\"/content/gdrive\", force_remount=True).\n"
          ],
          "name": "stdout"
        }
      ]
    },
    {
      "cell_type": "code",
      "metadata": {
        "id": "-_OrueTsxCaI",
        "colab_type": "code",
        "colab": {}
      },
      "source": [
        "import pandas as pd\n",
        "df=pd.read_csv(\"gdrive/My Drive/Colab Notebooks/sample_road_name_extracted.csv\")"
      ],
      "execution_count": 0,
      "outputs": []
    },
    {
      "cell_type": "code",
      "metadata": {
        "id": "DpLbPsOUBiYI",
        "colab_type": "code",
        "outputId": "147cd05b-5b5e-4e60-f657-5aff149403bf",
        "colab": {
          "base_uri": "https://localhost:8080/",
          "height": 200
        }
      },
      "source": [
        "df=df.dropna()\n",
        "df.head()\n"
      ],
      "execution_count": 0,
      "outputs": [
        {
          "output_type": "execute_result",
          "data": {
            "text/html": [
              "<div>\n",
              "<style scoped>\n",
              "    .dataframe tbody tr th:only-of-type {\n",
              "        vertical-align: middle;\n",
              "    }\n",
              "\n",
              "    .dataframe tbody tr th {\n",
              "        vertical-align: top;\n",
              "    }\n",
              "\n",
              "    .dataframe thead th {\n",
              "        text-align: right;\n",
              "    }\n",
              "</style>\n",
              "<table border=\"1\" class=\"dataframe\">\n",
              "  <thead>\n",
              "    <tr style=\"text-align: right;\">\n",
              "      <th></th>\n",
              "      <th>input_address</th>\n",
              "      <th>expected_road_value</th>\n",
              "    </tr>\n",
              "  </thead>\n",
              "  <tbody>\n",
              "    <tr>\n",
              "      <th>0</th>\n",
              "      <td>17/1-A ,1st colony , Jabbar housing society, m...</td>\n",
              "      <td>mazar road</td>\n",
              "    </tr>\n",
              "    <tr>\n",
              "      <th>1</th>\n",
              "      <td>Flat: 8(C), KA- 40/A, Shahid harez shorok, nod...</td>\n",
              "      <td>Shahid harez shorok</td>\n",
              "    </tr>\n",
              "    <tr>\n",
              "      <th>2</th>\n",
              "      <td>41/3 S.K Das Road, Gendaria ,Dhaka.</td>\n",
              "      <td>S.K Das Road</td>\n",
              "    </tr>\n",
              "    <tr>\n",
              "      <th>3</th>\n",
              "      <td>Tropical Park view 9/1-4 Free School Street Ha...</td>\n",
              "      <td>Free School Street</td>\n",
              "    </tr>\n",
              "    <tr>\n",
              "      <th>4</th>\n",
              "      <td>67 R.K mission Road , Gopibagh, 3rd lane judge...</td>\n",
              "      <td>R.K mission Road, 3rd lane, judge goli</td>\n",
              "    </tr>\n",
              "  </tbody>\n",
              "</table>\n",
              "</div>"
            ],
            "text/plain": [
              "                                       input_address                     expected_road_value\n",
              "0  17/1-A ,1st colony , Jabbar housing society, m...                              mazar road\n",
              "1  Flat: 8(C), KA- 40/A, Shahid harez shorok, nod...                     Shahid harez shorok\n",
              "2                41/3 S.K Das Road, Gendaria ,Dhaka.                            S.K Das Road\n",
              "3  Tropical Park view 9/1-4 Free School Street Ha...                      Free School Street\n",
              "4  67 R.K mission Road , Gopibagh, 3rd lane judge...  R.K mission Road, 3rd lane, judge goli"
            ]
          },
          "metadata": {
            "tags": []
          },
          "execution_count": 3
        }
      ]
    },
    {
      "cell_type": "code",
      "metadata": {
        "id": "WzecyPwPdE_F",
        "colab_type": "code",
        "colab": {}
      },
      "source": [
        "import re\n",
        "x=df\n",
        "def clean_text(x):\n",
        "  return x.split()"
      ],
      "execution_count": 0,
      "outputs": []
    },
    {
      "cell_type": "code",
      "metadata": {
        "id": "qiRsgEngeUiD",
        "colab_type": "code",
        "colab": {}
      },
      "source": [
        "clean_address = list()\n",
        "for address in x.input_address:\n",
        "    clean_address.append(clean_text(address))\n",
        "clean_road =list()\n",
        "for road in x.expected_road_value:\n",
        "    clean_road.append(clean_text(road))"
      ],
      "execution_count": 0,
      "outputs": []
    },
    {
      "cell_type": "code",
      "metadata": {
        "id": "Q5FanyIEfFf_",
        "colab_type": "code",
        "outputId": "d94b9faa-41ae-44f3-8e02-9cb75401113d",
        "colab": {
          "base_uri": "https://localhost:8080/",
          "height": 372
        }
      },
      "source": [
        "for i in range(5):\n",
        "    print(\"check value:#\",i+1)\n",
        "    print(\"address:\",clean_address[i])\n",
        "    print(\"road:\",clean_road[i])\n",
        "    print()"
      ],
      "execution_count": 0,
      "outputs": [
        {
          "output_type": "stream",
          "text": [
            "check value:# 1\n",
            "address: ['17/1-A', ',1st', 'colony', ',', 'Jabbar', 'housing', 'society,', 'mazar', 'road', ',', 'mirpur', ',Dhaka']\n",
            "road: ['mazar', 'road']\n",
            "\n",
            "check value:# 2\n",
            "address: ['Flat:', '8(C),', 'KA-', '40/A,', 'Shahid', 'harez', 'shorok,', 'nodda', 'bus', 'stand,', 'baridhara,', 'Dhaka']\n",
            "road: ['Shahid', 'harez', 'shorok']\n",
            "\n",
            "check value:# 3\n",
            "address: ['41/3', 'S.K', 'Das', 'Road,', 'Gendaria', ',Dhaka.']\n",
            "road: ['S.K', 'Das', 'Road']\n",
            "\n",
            "check value:# 4\n",
            "address: ['Tropical', 'Park', 'view', '9/1-4', 'Free', 'School', 'Street', 'Hatirpool', 'Flat-9D,Floor-10th,lift:9th,9A']\n",
            "road: ['Free', 'School', 'Street']\n",
            "\n",
            "check value:# 5\n",
            "address: ['67', 'R.K', 'mission', 'Road', ',', 'Gopibagh,', '3rd', 'lane', 'judge', 'goli']\n",
            "road: ['R.K', 'mission', 'Road,', '3rd', 'lane,', 'judge', 'goli']\n",
            "\n"
          ],
          "name": "stdout"
        }
      ]
    },
    {
      "cell_type": "code",
      "metadata": {
        "id": "iIczMAZCfddM",
        "colab_type": "code",
        "colab": {}
      },
      "source": [
        "corpus=clean_address+clean_road"
      ],
      "execution_count": 0,
      "outputs": []
    },
    {
      "cell_type": "code",
      "metadata": {
        "id": "EWyGcYv3-O09",
        "colab_type": "code",
        "outputId": "91a8d30a-434d-4a25-cb1a-e19d5a5f464b",
        "colab": {
          "base_uri": "https://localhost:8080/",
          "height": 72
        }
      },
      "source": [
        "from gensim.models import Word2Vec\n",
        "model = Word2Vec(corpus, size=100, window=3, min_count=1, workers=2)\n",
        "model.wv.save_word2vec_format(\"gdrive/My Drive/Colab Notebooks/address2vec.txt\",binary=False)"
      ],
      "execution_count": 0,
      "outputs": [
        {
          "output_type": "stream",
          "text": [
            "/usr/local/lib/python3.6/dist-packages/smart_open/smart_open_lib.py:402: UserWarning: This function is deprecated, use smart_open.open instead. See the migration notes for details: https://github.com/RaRe-Technologies/smart_open/blob/master/README.rst#migrating-to-the-new-open-function\n",
            "  'See the migration notes for details: %s' % _MIGRATION_NOTES_URL\n"
          ],
          "name": "stderr"
        }
      ]
    },
    {
      "cell_type": "code",
      "metadata": {
        "id": "TeR9_6esakQK",
        "colab_type": "code",
        "outputId": "1e1e6515-947f-480e-a0f1-4ab0d9572d49",
        "colab": {
          "base_uri": "https://localhost:8080/",
          "height": 72
        }
      },
      "source": [
        "import gensim\n",
        "model = gensim.models.KeyedVectors.load_word2vec_format(\"gdrive/My Drive/Colab Notebooks/address2vec.txt\",binary=False)"
      ],
      "execution_count": 0,
      "outputs": [
        {
          "output_type": "stream",
          "text": [
            "/usr/local/lib/python3.6/dist-packages/smart_open/smart_open_lib.py:402: UserWarning: This function is deprecated, use smart_open.open instead. See the migration notes for details: https://github.com/RaRe-Technologies/smart_open/blob/master/README.rst#migrating-to-the-new-open-function\n",
            "  'See the migration notes for details: %s' % _MIGRATION_NOTES_URL\n"
          ],
          "name": "stderr"
        }
      ]
    },
    {
      "cell_type": "code",
      "metadata": {
        "id": "90GKGRxp4JCM",
        "colab_type": "code",
        "outputId": "8272b469-c631-46fc-f403-388c3861f2ea",
        "colab": {
          "base_uri": "https://localhost:8080/",
          "height": 70
        }
      },
      "source": [
        "len(model.wv.vocab)"
      ],
      "execution_count": 0,
      "outputs": [
        {
          "output_type": "stream",
          "text": [
            "/usr/local/lib/python3.6/dist-packages/ipykernel_launcher.py:1: DeprecationWarning: Call to deprecated `wv` (Attribute will be removed in 4.0.0, use self instead).\n",
            "  \"\"\"Entry point for launching an IPython kernel.\n"
          ],
          "name": "stderr"
        },
        {
          "output_type": "execute_result",
          "data": {
            "text/plain": [
              "401"
            ]
          },
          "metadata": {
            "tags": []
          },
          "execution_count": 106
        }
      ]
    },
    {
      "cell_type": "code",
      "metadata": {
        "id": "XtTfJb9Ya04j",
        "colab_type": "code",
        "outputId": "e5a0a07b-3045-4974-d30d-dbd295c621c7",
        "colab": {
          "base_uri": "https://localhost:8080/",
          "height": 497
        }
      },
      "source": [
        "vector = model.wv['mazar']\n",
        "print(vector)"
      ],
      "execution_count": 0,
      "outputs": [
        {
          "output_type": "stream",
          "text": [
            "[-4.8954338e-03  4.7467193e-03  3.4609388e-03 -8.2645967e-04\n",
            " -4.0004710e-03  1.1344393e-03  1.3716418e-04 -7.0139120e-04\n",
            "  4.2153662e-03  1.6282403e-03  7.9177169e-04  2.3346212e-04\n",
            " -2.5831352e-03 -1.5481433e-05 -4.8153233e-03  4.4463165e-03\n",
            "  8.5873931e-04  4.4838409e-03 -2.2205147e-03  3.2925508e-03\n",
            "  3.0209057e-03 -1.2237268e-03 -1.3080612e-03 -3.2225058e-03\n",
            " -1.4760961e-03  1.8982142e-03 -1.4394346e-03 -2.9945930e-03\n",
            "  1.0295567e-03 -2.6554484e-03  3.8062928e-03  3.6864181e-03\n",
            "  2.7252464e-03 -3.4802710e-03  5.0836476e-04  2.7716935e-03\n",
            "  1.8679528e-03  1.4827780e-03 -2.5420247e-03 -2.0055959e-03\n",
            " -2.6239366e-03  2.0287992e-04 -3.6075742e-03  3.4773969e-03\n",
            "  3.6722184e-03  3.8780565e-03  2.2073174e-04  7.5122865e-04\n",
            "  3.2180741e-03 -2.0347624e-03  3.5208652e-03  7.0407509e-04\n",
            " -2.3501923e-03 -3.0346652e-03  7.9978531e-04  5.8565533e-04\n",
            " -2.5172401e-04 -2.9546628e-03 -4.7134962e-03 -1.7340468e-03\n",
            " -1.6182308e-03  1.8350137e-03 -4.3208613e-03 -4.9401312e-03\n",
            "  2.4995687e-03  1.2556590e-04  4.3255473e-03 -1.4404715e-03\n",
            " -2.7833048e-03 -3.6242902e-03 -1.2194300e-03 -4.0926022e-04\n",
            "  3.3614151e-03 -2.7464663e-03 -2.6608489e-03  2.7880191e-03\n",
            " -2.0040052e-03 -4.1694540e-04 -4.0873894e-03  1.4505502e-04\n",
            "  4.7303014e-03  7.5994496e-04  3.9886795e-03 -3.2209181e-03\n",
            " -4.5613609e-03 -4.3446178e-04 -2.4590518e-03 -3.3652494e-04\n",
            " -2.5769498e-03 -2.1307962e-04 -1.8222228e-03 -3.3232127e-03\n",
            "  1.5017178e-03  2.2408171e-03  3.3634584e-03 -1.1205295e-03\n",
            "  3.7389980e-03  2.6095372e-03  2.6786050e-03  3.7247546e-03]\n"
          ],
          "name": "stdout"
        },
        {
          "output_type": "stream",
          "text": [
            "/usr/local/lib/python3.6/dist-packages/ipykernel_launcher.py:1: DeprecationWarning: Call to deprecated `wv` (Attribute will be removed in 4.0.0, use self instead).\n",
            "  \"\"\"Entry point for launching an IPython kernel.\n"
          ],
          "name": "stderr"
        }
      ]
    },
    {
      "cell_type": "code",
      "metadata": {
        "id": "9wcI33V-hvY5",
        "colab_type": "code",
        "outputId": "771e5718-05d9-4272-81ba-e2daa730b0bc",
        "colab": {
          "base_uri": "https://localhost:8080/",
          "height": 200
        }
      },
      "source": [
        "df.head()"
      ],
      "execution_count": 0,
      "outputs": [
        {
          "output_type": "execute_result",
          "data": {
            "text/html": [
              "<div>\n",
              "<style scoped>\n",
              "    .dataframe tbody tr th:only-of-type {\n",
              "        vertical-align: middle;\n",
              "    }\n",
              "\n",
              "    .dataframe tbody tr th {\n",
              "        vertical-align: top;\n",
              "    }\n",
              "\n",
              "    .dataframe thead th {\n",
              "        text-align: right;\n",
              "    }\n",
              "</style>\n",
              "<table border=\"1\" class=\"dataframe\">\n",
              "  <thead>\n",
              "    <tr style=\"text-align: right;\">\n",
              "      <th></th>\n",
              "      <th>input_address</th>\n",
              "      <th>expected_road_value</th>\n",
              "    </tr>\n",
              "  </thead>\n",
              "  <tbody>\n",
              "    <tr>\n",
              "      <th>0</th>\n",
              "      <td>17/1-A ,1st colony , Jabbar housing society, m...</td>\n",
              "      <td>mazar road</td>\n",
              "    </tr>\n",
              "    <tr>\n",
              "      <th>1</th>\n",
              "      <td>Flat: 8(C), KA- 40/A, Shahid harez shorok, nod...</td>\n",
              "      <td>Shahid harez shorok</td>\n",
              "    </tr>\n",
              "    <tr>\n",
              "      <th>2</th>\n",
              "      <td>41/3 S.K Das Road, Gendaria ,Dhaka.</td>\n",
              "      <td>S.K Das Road</td>\n",
              "    </tr>\n",
              "    <tr>\n",
              "      <th>3</th>\n",
              "      <td>Tropical Park view 9/1-4 Free School Street Ha...</td>\n",
              "      <td>Free School Street</td>\n",
              "    </tr>\n",
              "    <tr>\n",
              "      <th>4</th>\n",
              "      <td>67 R.K mission Road , Gopibagh, 3rd lane judge...</td>\n",
              "      <td>R.K mission Road, 3rd lane, judge goli</td>\n",
              "    </tr>\n",
              "  </tbody>\n",
              "</table>\n",
              "</div>"
            ],
            "text/plain": [
              "                                       input_address                     expected_road_value\n",
              "0  17/1-A ,1st colony , Jabbar housing society, m...                              mazar road\n",
              "1  Flat: 8(C), KA- 40/A, Shahid harez shorok, nod...                     Shahid harez shorok\n",
              "2                41/3 S.K Das Road, Gendaria ,Dhaka.                            S.K Das Road\n",
              "3  Tropical Park view 9/1-4 Free School Street Ha...                      Free School Street\n",
              "4  67 R.K mission Road , Gopibagh, 3rd lane judge...  R.K mission Road, 3rd lane, judge goli"
            ]
          },
          "metadata": {
            "tags": []
          },
          "execution_count": 108
        }
      ]
    },
    {
      "cell_type": "code",
      "metadata": {
        "id": "2iNqQkBriAuR",
        "colab_type": "code",
        "colab": {}
      },
      "source": [
        "from gensim.similarities import WmdSimilarity"
      ],
      "execution_count": 0,
      "outputs": []
    },
    {
      "cell_type": "code",
      "metadata": {
        "id": "RwBpgqZ8FyoA",
        "colab_type": "code",
        "colab": {}
      },
      "source": [
        "text=df\n",
        "def raw_text(text):\n",
        "  return text"
      ],
      "execution_count": 0,
      "outputs": []
    },
    {
      "cell_type": "code",
      "metadata": {
        "id": "Qyrhd5_QF4j-",
        "colab_type": "code",
        "colab": {}
      },
      "source": [
        "raw_texts = []\n",
        "for text in df.input_address:\n",
        "    raw_texts.append(raw_text(text))"
      ],
      "execution_count": 0,
      "outputs": []
    },
    {
      "cell_type": "code",
      "metadata": {
        "id": "SOWuAMPt-CSM",
        "colab_type": "code",
        "colab": {}
      },
      "source": [
        "def process_address(text_list, texts, texts_list_name):\n",
        "    for text in texts:\n",
        "        text_list.append(raw_text(text))\n",
        "        if len(text_list) % 10000 == 0:\n",
        "            progress = len(text_list)/len(df) * 100\n",
        "            print(\"{} is {}% complete.\".format(text_list_name, round(progress, 1)))"
      ],
      "execution_count": 0,
      "outputs": []
    },
    {
      "cell_type": "code",
      "metadata": {
        "id": "SLxYoyC5GpLm",
        "colab_type": "code",
        "colab": {}
      },
      "source": [
        "def process_road(text_list, texts, texts_list_name):\n",
        "    for text in texts:\n",
        "        text_list.append(raw_text(text))\n",
        "        if len(text_list) % 10000 == 0:\n",
        "            progress = len(text_list)/len(df) * 100\n",
        "            print(\"{} is {}% complete.\".format(text_list_name, round(progress, 1)))"
      ],
      "execution_count": 0,
      "outputs": []
    },
    {
      "cell_type": "code",
      "metadata": {
        "id": "sP59-wnq-Q_2",
        "colab_type": "code",
        "colab": {}
      },
      "source": [
        "address = []     \n",
        "process_address(address, df.input_address, \"input_address\")"
      ],
      "execution_count": 0,
      "outputs": []
    },
    {
      "cell_type": "code",
      "metadata": {
        "id": "8DApSMDbGwZ8",
        "colab_type": "code",
        "colab": {}
      },
      "source": [
        "road = []\n",
        "process_road(road,df.expected_road_value,\"expected_road_value\")\n"
      ],
      "execution_count": 0,
      "outputs": []
    },
    {
      "cell_type": "code",
      "metadata": {
        "id": "cDeUeGZa-fEY",
        "colab_type": "code",
        "colab": {}
      },
      "source": [
        "num_best = 1\n",
        "st=WmdSimilarity(address,model,num_best=1)"
      ],
      "execution_count": 0,
      "outputs": []
    },
    {
      "cell_type": "code",
      "metadata": {
        "id": "6CpKeq_7-kJ4",
        "colab_type": "code",
        "outputId": "0865db92-dfe4-4135-b172-37c0d31114c0",
        "colab": {
          "base_uri": "https://localhost:8080/",
          "height": 52
        }
      },
      "source": [
        "print(\"Enter Address:\")\n",
        "s=input()"
      ],
      "execution_count": 0,
      "outputs": [
        {
          "output_type": "stream",
          "text": [
            "Enter Address:\n",
            " F1 404 Bara MOghbazar\n"
          ],
          "name": "stdout"
        }
      ]
    },
    {
      "cell_type": "code",
      "metadata": {
        "id": "LY52jnn6-m5t",
        "colab_type": "code",
        "outputId": "df4ff04f-c100-469a-c2f7-92d0473e8e8d",
        "colab": {
          "base_uri": "https://localhost:8080/",
          "height": 70
        }
      },
      "source": [
        "query = raw_text(s)\n",
        "l1 = []\n",
        "sims = st[query]  \n",
        "print('Best Similar Road:')\n",
        "for i in range(num_best):\n",
        "    print(\"Road:\",road[sims[i][0]])\n",
        "    l1.append(road[sims[i][0]])\n",
        "    print('similarity = %.3f' % sims[i][1])"
      ],
      "execution_count": 0,
      "outputs": [
        {
          "output_type": "stream",
          "text": [
            "Best Similar Road:\n",
            "Road: Dilu Road\n",
            "similarity = 0.667\n"
          ],
          "name": "stdout"
        }
      ]
    },
    {
      "cell_type": "code",
      "metadata": {
        "id": "juaGzEFSYytk",
        "colab_type": "code",
        "colab": {}
      },
      "source": [
        "value=l1.pop()\n",
        "value=value.strip()\n",
        "df[\"Index\"]=df[\"expected_road_value\"].str.find(value) "
      ],
      "execution_count": 0,
      "outputs": []
    },
    {
      "cell_type": "code",
      "metadata": {
        "id": "cyM1DWgibd0L",
        "colab_type": "code",
        "outputId": "33035ac3-65ab-4490-d169-8c45f6523abf",
        "colab": {
          "base_uri": "https://localhost:8080/",
          "height": 78
        }
      },
      "source": [
        "df[df['Index']==0]"
      ],
      "execution_count": 0,
      "outputs": [
        {
          "output_type": "execute_result",
          "data": {
            "text/html": [
              "<div>\n",
              "<style scoped>\n",
              "    .dataframe tbody tr th:only-of-type {\n",
              "        vertical-align: middle;\n",
              "    }\n",
              "\n",
              "    .dataframe tbody tr th {\n",
              "        vertical-align: top;\n",
              "    }\n",
              "\n",
              "    .dataframe thead th {\n",
              "        text-align: right;\n",
              "    }\n",
              "</style>\n",
              "<table border=\"1\" class=\"dataframe\">\n",
              "  <thead>\n",
              "    <tr style=\"text-align: right;\">\n",
              "      <th></th>\n",
              "      <th>input_address</th>\n",
              "      <th>expected_road_value</th>\n",
              "      <th>Index</th>\n",
              "    </tr>\n",
              "  </thead>\n",
              "  <tbody>\n",
              "    <tr>\n",
              "      <th>10</th>\n",
              "      <td>Flat: F1 404 Bara MOghbazar Dilu Road New Eskaton</td>\n",
              "      <td>Dilu Road</td>\n",
              "      <td>0</td>\n",
              "    </tr>\n",
              "  </tbody>\n",
              "</table>\n",
              "</div>"
            ],
            "text/plain": [
              "                                        input_address  ... Index\n",
              "10  Flat: F1 404 Bara MOghbazar Dilu Road New Eskaton  ...     0\n",
              "\n",
              "[1 rows x 3 columns]"
            ]
          },
          "metadata": {
            "tags": []
          },
          "execution_count": 146
        }
      ]
    },
    {
      "cell_type": "code",
      "metadata": {
        "id": "LgW-Q4C_bjn7",
        "colab_type": "code",
        "colab": {}
      },
      "source": [
        ""
      ],
      "execution_count": 0,
      "outputs": []
    }
  ]
}