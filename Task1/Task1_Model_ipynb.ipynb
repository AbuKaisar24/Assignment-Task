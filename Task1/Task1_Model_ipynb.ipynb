{
  "nbformat": 4,
  "nbformat_minor": 0,
  "metadata": {
    "colab": {
      "name": "Task1_Model. ipynb",
      "provenance": []
    },
    "kernelspec": {
      "name": "python3",
      "display_name": "Python 3"
    },
    "accelerator": "GPU"
  },
  "cells": [
    {
      "cell_type": "code",
      "metadata": {
        "id": "LNmqOV8hZVX8",
        "colab_type": "code",
        "outputId": "1437bfce-e558-4d04-9fca-8145db8b98e3",
        "colab": {
          "base_uri": "https://localhost:8080/",
          "height": 35
        }
      },
      "source": [
        "from google.colab import drive\n",
        "drive.mount('/content/gdrive')"
      ],
      "execution_count": 0,
      "outputs": [
        {
          "output_type": "stream",
          "text": [
            "Drive already mounted at /content/gdrive; to attempt to forcibly remount, call drive.mount(\"/content/gdrive\", force_remount=True).\n"
          ],
          "name": "stdout"
        }
      ]
    },
    {
      "cell_type": "code",
      "metadata": {
        "id": "DP91vqgihiw_",
        "colab_type": "code",
        "colab": {}
      },
      "source": [
        "import pandas as pd"
      ],
      "execution_count": 0,
      "outputs": []
    },
    {
      "cell_type": "code",
      "metadata": {
        "id": "q0eLv4csj7_B",
        "colab_type": "code",
        "colab": {}
      },
      "source": [
        "df=pd.read_csv(\"gdrive/My Drive/Colab Notebooks/sample_building_name_extracted.csv\")"
      ],
      "execution_count": 0,
      "outputs": []
    },
    {
      "cell_type": "code",
      "metadata": {
        "id": "mjruwEfsuihk",
        "colab_type": "code",
        "outputId": "97eb3b6b-f727-4ce3-904a-5a19f7064c10",
        "colab": {
          "base_uri": "https://localhost:8080/",
          "height": 200
        }
      },
      "source": [
        "df.head()"
      ],
      "execution_count": 0,
      "outputs": [
        {
          "output_type": "execute_result",
          "data": {
            "text/html": [
              "<div>\n",
              "<style scoped>\n",
              "    .dataframe tbody tr th:only-of-type {\n",
              "        vertical-align: middle;\n",
              "    }\n",
              "\n",
              "    .dataframe tbody tr th {\n",
              "        vertical-align: top;\n",
              "    }\n",
              "\n",
              "    .dataframe thead th {\n",
              "        text-align: right;\n",
              "    }\n",
              "</style>\n",
              "<table border=\"1\" class=\"dataframe\">\n",
              "  <thead>\n",
              "    <tr style=\"text-align: right;\">\n",
              "      <th></th>\n",
              "      <th>Address</th>\n",
              "      <th>BuildingName</th>\n",
              "    </tr>\n",
              "  </thead>\n",
              "  <tbody>\n",
              "    <tr>\n",
              "      <th>0</th>\n",
              "      <td>Address:jurayin,postogola,bikrampur plaza</td>\n",
              "      <td>bikrampur plaza</td>\n",
              "    </tr>\n",
              "    <tr>\n",
              "      <th>1</th>\n",
              "      <td>Puran Dhaka, 4/1 Simson road, beside Wajghat K...</td>\n",
              "      <td>Ambiya Tower</td>\n",
              "    </tr>\n",
              "    <tr>\n",
              "      <th>2</th>\n",
              "      <td>House#24, \"Lake Valley\", Flat B-3, Road no. 28...</td>\n",
              "      <td>Lake Valley</td>\n",
              "    </tr>\n",
              "    <tr>\n",
              "      <th>3</th>\n",
              "      <td>Eskaton Plaza, Flat 3/A, 131 New Estakon.\\nDha...</td>\n",
              "      <td>Eskaton Plaza</td>\n",
              "    </tr>\n",
              "    <tr>\n",
              "      <th>4</th>\n",
              "      <td>Partex Star Group,  Shanta Western Tower,  Lev...</td>\n",
              "      <td>Shanta Western Tower</td>\n",
              "    </tr>\n",
              "  </tbody>\n",
              "</table>\n",
              "</div>"
            ],
            "text/plain": [
              "                                             Address          BuildingName\n",
              "0          Address:jurayin,postogola,bikrampur plaza       bikrampur plaza\n",
              "1  Puran Dhaka, 4/1 Simson road, beside Wajghat K...          Ambiya Tower\n",
              "2  House#24, \"Lake Valley\", Flat B-3, Road no. 28...           Lake Valley\n",
              "3  Eskaton Plaza, Flat 3/A, 131 New Estakon.\\nDha...         Eskaton Plaza\n",
              "4  Partex Star Group,  Shanta Western Tower,  Lev...  Shanta Western Tower"
            ]
          },
          "metadata": {
            "tags": []
          },
          "execution_count": 49
        }
      ]
    },
    {
      "cell_type": "code",
      "metadata": {
        "id": "xJYe3_qMu0fp",
        "colab_type": "code",
        "colab": {}
      },
      "source": [
        "x=df.drop(\"BuildingName\",axis=1)\n",
        "y=df[\"BuildingName\"]"
      ],
      "execution_count": 0,
      "outputs": []
    },
    {
      "cell_type": "code",
      "metadata": {
        "id": "sKKpseSPvi3A",
        "colab_type": "code",
        "outputId": "2a16c59e-66ea-43ec-a6aa-a1c2ebaf8988",
        "colab": {
          "base_uri": "https://localhost:8080/",
          "height": 170
        }
      },
      "source": [
        "df.describe()"
      ],
      "execution_count": 0,
      "outputs": [
        {
          "output_type": "execute_result",
          "data": {
            "text/html": [
              "<div>\n",
              "<style scoped>\n",
              "    .dataframe tbody tr th:only-of-type {\n",
              "        vertical-align: middle;\n",
              "    }\n",
              "\n",
              "    .dataframe tbody tr th {\n",
              "        vertical-align: top;\n",
              "    }\n",
              "\n",
              "    .dataframe thead th {\n",
              "        text-align: right;\n",
              "    }\n",
              "</style>\n",
              "<table border=\"1\" class=\"dataframe\">\n",
              "  <thead>\n",
              "    <tr style=\"text-align: right;\">\n",
              "      <th></th>\n",
              "      <th>Address</th>\n",
              "      <th>BuildingName</th>\n",
              "    </tr>\n",
              "  </thead>\n",
              "  <tbody>\n",
              "    <tr>\n",
              "      <th>count</th>\n",
              "      <td>39</td>\n",
              "      <td>39</td>\n",
              "    </tr>\n",
              "    <tr>\n",
              "      <th>unique</th>\n",
              "      <td>39</td>\n",
              "      <td>39</td>\n",
              "    </tr>\n",
              "    <tr>\n",
              "      <th>top</th>\n",
              "      <td>Dh tower level-15 6 panthapath</td>\n",
              "      <td>Islam Tower</td>\n",
              "    </tr>\n",
              "    <tr>\n",
              "      <th>freq</th>\n",
              "      <td>1</td>\n",
              "      <td>1</td>\n",
              "    </tr>\n",
              "  </tbody>\n",
              "</table>\n",
              "</div>"
            ],
            "text/plain": [
              "                               Address BuildingName\n",
              "count                               39           39\n",
              "unique                              39           39\n",
              "top     Dh tower level-15 6 panthapath  Islam Tower\n",
              "freq                                 1            1"
            ]
          },
          "metadata": {
            "tags": []
          },
          "execution_count": 51
        }
      ]
    },
    {
      "cell_type": "code",
      "metadata": {
        "id": "JowJGzY3zPBk",
        "colab_type": "code",
        "colab": {}
      },
      "source": [
        "def clean_text(x):\n",
        "  x = re.sub(r'https?:\\/\\/.*[\\r\\n]*', '', x, flags=re.MULTILINE)\n",
        "  x = re.sub(r'\\<a href', ' ', x)\n",
        "  x = re.sub(r'&amp;‘:‘ ’', '', x) \n",
        "  x = re.sub(r'[_\"\\-;%()|+&=*%.,!?:#$@\\[\\]/]। ,', ' ', x)\n",
        "  x = re.sub(r'<br />', ' ', x)\n",
        "  x = re.sub(r'\\'', ' ', x)\n",
        "  x = re.sub(r\"[\\@$#%~+-\\.\\'।\\\"]\",\" \",x)\n",
        "  x = re.sub(r\"(?m)^\\s+\", \"\", x)\n",
        "  x = re.sub(\"[()]\",\"\",x)\n",
        "  x = re.sub(\"[‘’]\",\"\",x)\n",
        "  x = re.sub(\"[!]\",\"\",x)\n",
        "  x = re.sub(\"[/]\",\"\",x)\n",
        "  x = re.sub(\"[:]\",\"\",x)\n",
        "  x = re.sub('\\ |\\?|\\.|\\!|\\/|\\;|\\:', ' ',x)\n",
        "  x = x.strip(\"/\")\n",
        "  return x\n",
        "              "
      ],
      "execution_count": 0,
      "outputs": []
    },
    {
      "cell_type": "code",
      "metadata": {
        "id": "BaXQgqjJy4bh",
        "colab_type": "code",
        "colab": {}
      },
      "source": [
        "import tensorflow as tf\n",
        "import tensorflow_hub as hub\n",
        "import numpy as np\n",
        "import pandas as pd\n",
        "import matplotlib.pyplot as plt\n"
      ],
      "execution_count": 0,
      "outputs": []
    },
    {
      "cell_type": "code",
      "metadata": {
        "id": "0BDc2T57zC95",
        "colab_type": "code",
        "colab": {}
      },
      "source": [
        "module_url = \"https://tfhub.dev/google/universal-sentence-encoder-large/3\" \n",
        "embed = hub.Module(module_url)"
      ],
      "execution_count": 0,
      "outputs": []
    },
    {
      "cell_type": "code",
      "metadata": {
        "id": "BW82zy9u0MK8",
        "colab_type": "code",
        "outputId": "a02cda48-b62a-4e85-a8f9-8385104fbbda",
        "colab": {
          "base_uri": "https://localhost:8080/",
          "height": 88
        }
      },
      "source": [
        "sts_input1 = tf.placeholder(tf.string, shape=(None))\n",
        "sts_input2 = tf.placeholder(tf.string, shape=(None))\n",
        "\n",
        "\n",
        "sts_encode1 = tf.nn.l2_normalize(embed(sts_input1), axis=1)\n",
        "sts_encode2 = tf.nn.l2_normalize(embed(sts_input2), axis=1)\n",
        "\n",
        "cosine_similarities = tf.reduce_sum(tf.multiply(sts_encode1, sts_encode2), axis=1)\n",
        "clip_cosine_similarities = tf.clip_by_value(cosine_similarities, 0.0, 1.0)\n",
        "sim_scores = 1.0 - tf.divide(tf.acos(clip_cosine_similarities), 3.14)"
      ],
      "execution_count": 0,
      "outputs": [
        {
          "output_type": "stream",
          "text": [
            "INFO:tensorflow:Saver not created because there are no variables in the graph to restore\n"
          ],
          "name": "stdout"
        },
        {
          "output_type": "stream",
          "text": [
            "INFO:tensorflow:Saver not created because there are no variables in the graph to restore\n"
          ],
          "name": "stderr"
        },
        {
          "output_type": "stream",
          "text": [
            "INFO:tensorflow:Saver not created because there are no variables in the graph to restore\n"
          ],
          "name": "stdout"
        },
        {
          "output_type": "stream",
          "text": [
            "INFO:tensorflow:Saver not created because there are no variables in the graph to restore\n"
          ],
          "name": "stderr"
        }
      ]
    },
    {
      "cell_type": "code",
      "metadata": {
        "id": "W4WoOHbcCWiB",
        "colab_type": "code",
        "outputId": "32d2e512-115c-4c11-f8a9-e17d53c3ff6a",
        "colab": {
          "base_uri": "https://localhost:8080/",
          "height": 1000
        }
      },
      "source": [
        "def get_quora_qs():\n",
        "    return(df)\n",
        "get_quora_qs()"
      ],
      "execution_count": 0,
      "outputs": [
        {
          "output_type": "execute_result",
          "data": {
            "text/html": [
              "<div>\n",
              "<style scoped>\n",
              "    .dataframe tbody tr th:only-of-type {\n",
              "        vertical-align: middle;\n",
              "    }\n",
              "\n",
              "    .dataframe tbody tr th {\n",
              "        vertical-align: top;\n",
              "    }\n",
              "\n",
              "    .dataframe thead th {\n",
              "        text-align: right;\n",
              "    }\n",
              "</style>\n",
              "<table border=\"1\" class=\"dataframe\">\n",
              "  <thead>\n",
              "    <tr style=\"text-align: right;\">\n",
              "      <th></th>\n",
              "      <th>Address</th>\n",
              "      <th>BuildingName</th>\n",
              "      <th>new</th>\n",
              "      <th>sim_score</th>\n",
              "      <th>emba</th>\n",
              "      <th>embb</th>\n",
              "    </tr>\n",
              "  </thead>\n",
              "  <tbody>\n",
              "    <tr>\n",
              "      <th>0</th>\n",
              "      <td>Address:jurayin,postogola,bikrampur plaza</td>\n",
              "      <td>bikrampur plaza</td>\n",
              "      <td>21 dhanmondi, dhaka, bangladesh</td>\n",
              "      <td>0.646682</td>\n",
              "      <td>[0.013207249343395233, -0.03689589723944664, -...</td>\n",
              "      <td>[-0.052398186177015305, -0.014586562290787697,...</td>\n",
              "    </tr>\n",
              "    <tr>\n",
              "      <th>1</th>\n",
              "      <td>Puran Dhaka, 4/1 Simson road, beside Wajghat K...</td>\n",
              "      <td>Ambiya Tower</td>\n",
              "      <td>21 dhanmondi, dhaka, bangladesh</td>\n",
              "      <td>0.753587</td>\n",
              "      <td>[0.013207249343395233, -0.03689589723944664, -...</td>\n",
              "      <td>[0.019128814339637756, -0.0023670094087719917,...</td>\n",
              "    </tr>\n",
              "    <tr>\n",
              "      <th>2</th>\n",
              "      <td>House#24, \"Lake Valley\", Flat B-3, Road no. 28...</td>\n",
              "      <td>Lake Valley</td>\n",
              "      <td>21 dhanmondi, dhaka, bangladesh</td>\n",
              "      <td>0.763488</td>\n",
              "      <td>[0.013207249343395233, -0.03689589723944664, -...</td>\n",
              "      <td>[0.0030202153138816357, -0.01948898658156395, ...</td>\n",
              "    </tr>\n",
              "    <tr>\n",
              "      <th>3</th>\n",
              "      <td>Eskaton Plaza, Flat 3/A, 131 New Estakon.\\nDha...</td>\n",
              "      <td>Eskaton Plaza</td>\n",
              "      <td>21 dhanmondi, dhaka, bangladesh</td>\n",
              "      <td>0.646838</td>\n",
              "      <td>[0.013207249343395233, -0.03689589723944664, -...</td>\n",
              "      <td>[-0.053571268916130066, -0.0001183507120003923...</td>\n",
              "    </tr>\n",
              "    <tr>\n",
              "      <th>4</th>\n",
              "      <td>Partex Star Group,  Shanta Western Tower,  Lev...</td>\n",
              "      <td>Shanta Western Tower</td>\n",
              "      <td>21 dhanmondi, dhaka, bangladesh</td>\n",
              "      <td>0.652931</td>\n",
              "      <td>[0.013207249343395233, -0.03689589723944664, -...</td>\n",
              "      <td>[-0.0065906355157494545, 0.06206649914383888, ...</td>\n",
              "    </tr>\n",
              "    <tr>\n",
              "      <th>5</th>\n",
              "      <td>NRB Commercial Bank Ltd.\\nSilver Tower, (1st f...</td>\n",
              "      <td>Silver Tower</td>\n",
              "      <td>21 dhanmondi, dhaka, bangladesh</td>\n",
              "      <td>0.693980</td>\n",
              "      <td>[0.013207249343395233, -0.03689589723944664, -...</td>\n",
              "      <td>[-0.025520263239741325, -0.006527350749820471,...</td>\n",
              "    </tr>\n",
              "    <tr>\n",
              "      <th>6</th>\n",
              "      <td>Dh tower level-15 6 panthapath</td>\n",
              "      <td>Dh tower</td>\n",
              "      <td>21 dhanmondi, dhaka, bangladesh</td>\n",
              "      <td>0.662036</td>\n",
              "      <td>[0.013207249343395233, -0.03689589723944664, -...</td>\n",
              "      <td>[-0.00429569510743022, 0.03988812863826752, -0...</td>\n",
              "    </tr>\n",
              "    <tr>\n",
              "      <th>7</th>\n",
              "      <td>98 eastera rokeya tower flat-2/1202 maghbazar</td>\n",
              "      <td>rokeya tower</td>\n",
              "      <td>21 dhanmondi, dhaka, bangladesh</td>\n",
              "      <td>0.696892</td>\n",
              "      <td>[0.013207249343395233, -0.03689589723944664, -...</td>\n",
              "      <td>[0.031225835904479027, 0.010481119155883789, -...</td>\n",
              "    </tr>\n",
              "    <tr>\n",
              "      <th>8</th>\n",
              "      <td>brac bank speal platinum tower 247-248 tejgon ...</td>\n",
              "      <td>speal platinum tower</td>\n",
              "      <td>21 dhanmondi, dhaka, bangladesh</td>\n",
              "      <td>0.672372</td>\n",
              "      <td>[0.013207249343395233, -0.03689589723944664, -...</td>\n",
              "      <td>[-0.012938322499394417, -0.019607022404670715,...</td>\n",
              "    </tr>\n",
              "    <tr>\n",
              "      <th>9</th>\n",
              "      <td>Jara\\nDhaka Mercantile Bank\\n88-Rashid Complex...</td>\n",
              "      <td>Rashid Complex</td>\n",
              "      <td>21 dhanmondi, dhaka, bangladesh</td>\n",
              "      <td>0.619179</td>\n",
              "      <td>[0.013207249343395233, -0.03689589723944664, -...</td>\n",
              "      <td>[0.010835194028913975, -0.0368659682571888, 0....</td>\n",
              "    </tr>\n",
              "    <tr>\n",
              "      <th>10</th>\n",
              "      <td>Islam Tower, Opposite of BTV, Pathao Office, R...</td>\n",
              "      <td>Islam Tower</td>\n",
              "      <td>21 dhanmondi, dhaka, bangladesh</td>\n",
              "      <td>0.729690</td>\n",
              "      <td>[0.013207249343395233, -0.03689589723944664, -...</td>\n",
              "      <td>[0.0027164702769368887, -0.024393320083618164,...</td>\n",
              "    </tr>\n",
              "    <tr>\n",
              "      <th>11</th>\n",
              "      <td>Arafat homes, 3/ka, Ahamed nagar,(daud khan ma...</td>\n",
              "      <td>Arafat homes</td>\n",
              "      <td>21 dhanmondi, dhaka, bangladesh</td>\n",
              "      <td>0.671277</td>\n",
              "      <td>[0.013207249343395233, -0.03689589723944664, -...</td>\n",
              "      <td>[0.07692860066890717, -0.046240225434303284, -...</td>\n",
              "    </tr>\n",
              "    <tr>\n",
              "      <th>12</th>\n",
              "      <td>Sheltech Monihar 10 /D , 154 /1 Monipuripara D...</td>\n",
              "      <td>Sheltech Monihar</td>\n",
              "      <td>21 dhanmondi, dhaka, bangladesh</td>\n",
              "      <td>0.718898</td>\n",
              "      <td>[0.013207249343395233, -0.03689589723944664, -...</td>\n",
              "      <td>[0.017395878210663795, -0.008342118933796883, ...</td>\n",
              "    </tr>\n",
              "    <tr>\n",
              "      <th>13</th>\n",
              "      <td>DK Technology Ltd. (4th Floor), DK Tower, 94 B...</td>\n",
              "      <td>DK Tower</td>\n",
              "      <td>21 dhanmondi, dhaka, bangladesh</td>\n",
              "      <td>0.734627</td>\n",
              "      <td>[0.013207249343395233, -0.03689589723944664, -...</td>\n",
              "      <td>[0.030771572142839432, -0.00885080173611641, 0...</td>\n",
              "    </tr>\n",
              "    <tr>\n",
              "      <th>14</th>\n",
              "      <td>Ka/47, 3/b, Rojonigondha house, Holly cresent ...</td>\n",
              "      <td>Rojonigondha house</td>\n",
              "      <td>21 dhanmondi, dhaka, bangladesh</td>\n",
              "      <td>0.764661</td>\n",
              "      <td>[0.013207249343395233, -0.03689589723944664, -...</td>\n",
              "      <td>[0.03268931433558464, -0.029826698824763298, -...</td>\n",
              "    </tr>\n",
              "    <tr>\n",
              "      <th>15</th>\n",
              "      <td>310/A, Abedin Villa. Senpara parbota. Al helal...</td>\n",
              "      <td>Abedin Villa</td>\n",
              "      <td>21 dhanmondi, dhaka, bangladesh</td>\n",
              "      <td>0.715876</td>\n",
              "      <td>[0.013207249343395233, -0.03689589723944664, -...</td>\n",
              "      <td>[0.07127754390239716, -0.023132123053073883, -...</td>\n",
              "    </tr>\n",
              "    <tr>\n",
              "      <th>16</th>\n",
              "      <td>rawa complex, level-8, oxford office, mohakhal...</td>\n",
              "      <td>rawa complex</td>\n",
              "      <td>21 dhanmondi, dhaka, bangladesh</td>\n",
              "      <td>0.761269</td>\n",
              "      <td>[0.013207249343395233, -0.03689589723944664, -...</td>\n",
              "      <td>[0.011816759593784809, -0.0342237763106823, -0...</td>\n",
              "    </tr>\n",
              "    <tr>\n",
              "      <th>17</th>\n",
              "      <td>:  Rupsa building, SP para (near battlelian Bo...</td>\n",
              "      <td>Rupsa building</td>\n",
              "      <td>21 dhanmondi, dhaka, bangladesh</td>\n",
              "      <td>0.773205</td>\n",
              "      <td>[0.013207249343395233, -0.03689589723944664, -...</td>\n",
              "      <td>[0.04341553896665573, -0.03311575949192047, -0...</td>\n",
              "    </tr>\n",
              "    <tr>\n",
              "      <th>18</th>\n",
              "      <td>Mansuba tower, house no 24, 5th floor east wes...</td>\n",
              "      <td>Mansuba tower</td>\n",
              "      <td>21 dhanmondi, dhaka, bangladesh</td>\n",
              "      <td>0.661586</td>\n",
              "      <td>[0.013207249343395233, -0.03689589723944664, -...</td>\n",
              "      <td>[-0.034332841634750366, 0.01213822141289711, -...</td>\n",
              "    </tr>\n",
              "    <tr>\n",
              "      <th>19</th>\n",
              "      <td>443 Al modina complex, (3rd floor) joynal mark...</td>\n",
              "      <td>Al modina complex</td>\n",
              "      <td>21 dhanmondi, dhaka, bangladesh</td>\n",
              "      <td>0.767110</td>\n",
              "      <td>[0.013207249343395233, -0.03689589723944664, -...</td>\n",
              "      <td>[0.00019103160593658686, -0.023293983191251755...</td>\n",
              "    </tr>\n",
              "    <tr>\n",
              "      <th>20</th>\n",
              "      <td>76, Molly Capita Center \\nBata showroom buildi...</td>\n",
              "      <td>Molly Capita Center</td>\n",
              "      <td>21 dhanmondi, dhaka, bangladesh</td>\n",
              "      <td>0.662670</td>\n",
              "      <td>[0.013207249343395233, -0.03689589723944664, -...</td>\n",
              "      <td>[-0.07734176516532898, -0.04358235374093056, -...</td>\n",
              "    </tr>\n",
              "    <tr>\n",
              "      <th>21</th>\n",
              "      <td>Khan Villa,House no-29(5B),Road No-19,Sector-1...</td>\n",
              "      <td>Khan Villa</td>\n",
              "      <td>21 dhanmondi, dhaka, bangladesh</td>\n",
              "      <td>0.657782</td>\n",
              "      <td>[0.013207249343395233, -0.03689589723944664, -...</td>\n",
              "      <td>[0.0636511892080307, -0.06292451918125153, -0....</td>\n",
              "    </tr>\n",
              "    <tr>\n",
              "      <th>22</th>\n",
              "      <td>BSC Tower, Doinik Bangla Mor, Motijheel, Dhaka</td>\n",
              "      <td>BSC Tower</td>\n",
              "      <td>21 dhanmondi, dhaka, bangladesh</td>\n",
              "      <td>0.760678</td>\n",
              "      <td>[0.013207249343395233, -0.03689589723944664, -...</td>\n",
              "      <td>[0.04039013758301735, -0.018957674503326416, -...</td>\n",
              "    </tr>\n",
              "    <tr>\n",
              "      <th>23</th>\n",
              "      <td>House-760,761/A, Road-11, Avenue-6, 5th Floor,...</td>\n",
              "      <td>Commander Anowar House</td>\n",
              "      <td>21 dhanmondi, dhaka, bangladesh</td>\n",
              "      <td>0.746224</td>\n",
              "      <td>[0.013207249343395233, -0.03689589723944664, -...</td>\n",
              "      <td>[0.05933534353971481, -0.03614377975463867, -0...</td>\n",
              "    </tr>\n",
              "    <tr>\n",
              "      <th>24</th>\n",
              "      <td>Ionic crescent,116 monipuripara, flat 3a, dhaka</td>\n",
              "      <td>Ionic crescent</td>\n",
              "      <td>21 dhanmondi, dhaka, bangladesh</td>\n",
              "      <td>0.740022</td>\n",
              "      <td>[0.013207249343395233, -0.03689589723944664, -...</td>\n",
              "      <td>[0.0397736132144928, 0.024241788312792778, -0....</td>\n",
              "    </tr>\n",
              "    <tr>\n",
              "      <th>25</th>\n",
              "      <td>51/A Uday Tower, Gulshan 1</td>\n",
              "      <td>Uday Tower</td>\n",
              "      <td>21 dhanmondi, dhaka, bangladesh</td>\n",
              "      <td>0.716470</td>\n",
              "      <td>[0.013207249343395233, -0.03689589723944664, -...</td>\n",
              "      <td>[0.021350959315896034, -0.039463598281145096, ...</td>\n",
              "    </tr>\n",
              "    <tr>\n",
              "      <th>26</th>\n",
              "      <td>MRIDA VABAN\\n14/3 SONATON GOR\\nTANARIR MOR\\nZI...</td>\n",
              "      <td>MRIDA VABAN</td>\n",
              "      <td>21 dhanmondi, dhaka, bangladesh</td>\n",
              "      <td>0.605796</td>\n",
              "      <td>[0.013207249343395233, -0.03689589723944664, -...</td>\n",
              "      <td>[0.03184353560209274, -0.014932652935385704, -...</td>\n",
              "    </tr>\n",
              "    <tr>\n",
              "      <th>27</th>\n",
              "      <td>A11,Queens Garden Home,New Eskaton,Dhaka\\n</td>\n",
              "      <td>Queens Garden Home</td>\n",
              "      <td>21 dhanmondi, dhaka, bangladesh</td>\n",
              "      <td>0.643833</td>\n",
              "      <td>[0.013207249343395233, -0.03689589723944664, -...</td>\n",
              "      <td>[-0.008995170705020428, -0.014704159460961819,...</td>\n",
              "    </tr>\n",
              "    <tr>\n",
              "      <th>28</th>\n",
              "      <td>flat no. 6B, silcon cottage, house no. 300/j, ...</td>\n",
              "      <td>silcon cottage</td>\n",
              "      <td>21 dhanmondi, dhaka, bangladesh</td>\n",
              "      <td>0.647318</td>\n",
              "      <td>[0.013207249343395233, -0.03689589723944664, -...</td>\n",
              "      <td>[-0.02889672853052616, 0.020294450223445892, -...</td>\n",
              "    </tr>\n",
              "    <tr>\n",
              "      <th>29</th>\n",
              "      <td>65 Matbor Tower Zigatola</td>\n",
              "      <td>Matbor Tower</td>\n",
              "      <td>21 dhanmondi, dhaka, bangladesh</td>\n",
              "      <td>0.674626</td>\n",
              "      <td>[0.013207249343395233, -0.03689589723944664, -...</td>\n",
              "      <td>[0.0007331066881306469, 0.018451927229762077, ...</td>\n",
              "    </tr>\n",
              "    <tr>\n",
              "      <th>30</th>\n",
              "      <td>Lily Cottage, House 12/2, Siddeshwari Shudhi S...</td>\n",
              "      <td>Lily Cottage</td>\n",
              "      <td>21 dhanmondi, dhaka, bangladesh</td>\n",
              "      <td>0.737367</td>\n",
              "      <td>[0.013207249343395233, -0.03689589723944664, -...</td>\n",
              "      <td>[0.010853608138859272, -0.04093807563185692, -...</td>\n",
              "    </tr>\n",
              "    <tr>\n",
              "      <th>31</th>\n",
              "      <td>PBS building, 41 Shilpacharya Joynal Abedin sh...</td>\n",
              "      <td>PBS building</td>\n",
              "      <td>21 dhanmondi, dhaka, bangladesh</td>\n",
              "      <td>0.640830</td>\n",
              "      <td>[0.013207249343395233, -0.03689589723944664, -...</td>\n",
              "      <td>[-0.028707971796393394, -0.005955427885055542,...</td>\n",
              "    </tr>\n",
              "    <tr>\n",
              "      <th>32</th>\n",
              "      <td>3/O\\nJk house\\nDhopa para moshzid \\n7/a dhanmondi</td>\n",
              "      <td>Dhopa para moshzid</td>\n",
              "      <td>21 dhanmondi, dhaka, bangladesh</td>\n",
              "      <td>0.609987</td>\n",
              "      <td>[0.013207249343395233, -0.03689589723944664, -...</td>\n",
              "      <td>[0.06597670912742615, -0.029420413076877594, -...</td>\n",
              "    </tr>\n",
              "    <tr>\n",
              "      <th>33</th>\n",
              "      <td>LK Sunrise, Plot-1140-1142, Nurer Chala Main R...</td>\n",
              "      <td>LK Sunrise</td>\n",
              "      <td>21 dhanmondi, dhaka, bangladesh</td>\n",
              "      <td>0.729244</td>\n",
              "      <td>[0.013207249343395233, -0.03689589723944664, -...</td>\n",
              "      <td>[0.00449508149176836, -0.03067682683467865, -0...</td>\n",
              "    </tr>\n",
              "    <tr>\n",
              "      <th>34</th>\n",
              "      <td>C8, Tower 1, Premier Plaza(beside popular diag...</td>\n",
              "      <td>Premier Plaza</td>\n",
              "      <td>21 dhanmondi, dhaka, bangladesh</td>\n",
              "      <td>0.751955</td>\n",
              "      <td>[0.013207249343395233, -0.03689589723944664, -...</td>\n",
              "      <td>[0.0015780964167788625, 0.012309919111430645, ...</td>\n",
              "    </tr>\n",
              "    <tr>\n",
              "      <th>35</th>\n",
              "      <td>motaleb plaza paribag,block-b,flat-13/2</td>\n",
              "      <td>motaleb plaza</td>\n",
              "      <td>21 dhanmondi, dhaka, bangladesh</td>\n",
              "      <td>0.654707</td>\n",
              "      <td>[0.013207249343395233, -0.03689589723944664, -...</td>\n",
              "      <td>[-0.03640051186084747, -0.008588689379394054, ...</td>\n",
              "    </tr>\n",
              "    <tr>\n",
              "      <th>36</th>\n",
              "      <td>JIBON BIMA TOWER , 6TH FLOOR, 10 DILKUSHA , C....</td>\n",
              "      <td>JIBON BIMA TOWER</td>\n",
              "      <td>21 dhanmondi, dhaka, bangladesh</td>\n",
              "      <td>0.756663</td>\n",
              "      <td>[0.013207249343395233, -0.03689589723944664, -...</td>\n",
              "      <td>[0.003477655816823244, -0.022074587643146515, ...</td>\n",
              "    </tr>\n",
              "    <tr>\n",
              "      <th>37</th>\n",
              "      <td>Cha-95/4/A, Sweet Arman, North Badda, Dhaka 1212</td>\n",
              "      <td>Sweet Arman</td>\n",
              "      <td>21 dhanmondi, dhaka, bangladesh</td>\n",
              "      <td>0.781773</td>\n",
              "      <td>[0.013207249343395233, -0.03689589723944664, -...</td>\n",
              "      <td>[0.01731349527835846, -0.02458062767982483, -0...</td>\n",
              "    </tr>\n",
              "    <tr>\n",
              "      <th>38</th>\n",
              "      <td>Building-Antomil, Ka-1, Kuril, Joar Shahara, D...</td>\n",
              "      <td>Antomil</td>\n",
              "      <td>21 dhanmondi, dhaka, bangladesh</td>\n",
              "      <td>0.632851</td>\n",
              "      <td>[0.013207235373556614, -0.03689590096473694, -...</td>\n",
              "      <td>[0.03427634388208389, -0.016446273773908615, 0...</td>\n",
              "    </tr>\n",
              "  </tbody>\n",
              "</table>\n",
              "</div>"
            ],
            "text/plain": [
              "                                              Address  ...                                               embb\n",
              "0           Address:jurayin,postogola,bikrampur plaza  ...  [-0.052398186177015305, -0.014586562290787697,...\n",
              "1   Puran Dhaka, 4/1 Simson road, beside Wajghat K...  ...  [0.019128814339637756, -0.0023670094087719917,...\n",
              "2   House#24, \"Lake Valley\", Flat B-3, Road no. 28...  ...  [0.0030202153138816357, -0.01948898658156395, ...\n",
              "3   Eskaton Plaza, Flat 3/A, 131 New Estakon.\\nDha...  ...  [-0.053571268916130066, -0.0001183507120003923...\n",
              "4   Partex Star Group,  Shanta Western Tower,  Lev...  ...  [-0.0065906355157494545, 0.06206649914383888, ...\n",
              "5   NRB Commercial Bank Ltd.\\nSilver Tower, (1st f...  ...  [-0.025520263239741325, -0.006527350749820471,...\n",
              "6                      Dh tower level-15 6 panthapath  ...  [-0.00429569510743022, 0.03988812863826752, -0...\n",
              "7       98 eastera rokeya tower flat-2/1202 maghbazar  ...  [0.031225835904479027, 0.010481119155883789, -...\n",
              "8   brac bank speal platinum tower 247-248 tejgon ...  ...  [-0.012938322499394417, -0.019607022404670715,...\n",
              "9   Jara\\nDhaka Mercantile Bank\\n88-Rashid Complex...  ...  [0.010835194028913975, -0.0368659682571888, 0....\n",
              "10  Islam Tower, Opposite of BTV, Pathao Office, R...  ...  [0.0027164702769368887, -0.024393320083618164,...\n",
              "11  Arafat homes, 3/ka, Ahamed nagar,(daud khan ma...  ...  [0.07692860066890717, -0.046240225434303284, -...\n",
              "12  Sheltech Monihar 10 /D , 154 /1 Monipuripara D...  ...  [0.017395878210663795, -0.008342118933796883, ...\n",
              "13  DK Technology Ltd. (4th Floor), DK Tower, 94 B...  ...  [0.030771572142839432, -0.00885080173611641, 0...\n",
              "14  Ka/47, 3/b, Rojonigondha house, Holly cresent ...  ...  [0.03268931433558464, -0.029826698824763298, -...\n",
              "15  310/A, Abedin Villa. Senpara parbota. Al helal...  ...  [0.07127754390239716, -0.023132123053073883, -...\n",
              "16  rawa complex, level-8, oxford office, mohakhal...  ...  [0.011816759593784809, -0.0342237763106823, -0...\n",
              "17  :  Rupsa building, SP para (near battlelian Bo...  ...  [0.04341553896665573, -0.03311575949192047, -0...\n",
              "18  Mansuba tower, house no 24, 5th floor east wes...  ...  [-0.034332841634750366, 0.01213822141289711, -...\n",
              "19  443 Al modina complex, (3rd floor) joynal mark...  ...  [0.00019103160593658686, -0.023293983191251755...\n",
              "20  76, Molly Capita Center \\nBata showroom buildi...  ...  [-0.07734176516532898, -0.04358235374093056, -...\n",
              "21  Khan Villa,House no-29(5B),Road No-19,Sector-1...  ...  [0.0636511892080307, -0.06292451918125153, -0....\n",
              "22     BSC Tower, Doinik Bangla Mor, Motijheel, Dhaka  ...  [0.04039013758301735, -0.018957674503326416, -...\n",
              "23  House-760,761/A, Road-11, Avenue-6, 5th Floor,...  ...  [0.05933534353971481, -0.03614377975463867, -0...\n",
              "24    Ionic crescent,116 monipuripara, flat 3a, dhaka  ...  [0.0397736132144928, 0.024241788312792778, -0....\n",
              "25                         51/A Uday Tower, Gulshan 1  ...  [0.021350959315896034, -0.039463598281145096, ...\n",
              "26  MRIDA VABAN\\n14/3 SONATON GOR\\nTANARIR MOR\\nZI...  ...  [0.03184353560209274, -0.014932652935385704, -...\n",
              "27         A11,Queens Garden Home,New Eskaton,Dhaka\\n  ...  [-0.008995170705020428, -0.014704159460961819,...\n",
              "28  flat no. 6B, silcon cottage, house no. 300/j, ...  ...  [-0.02889672853052616, 0.020294450223445892, -...\n",
              "29                           65 Matbor Tower Zigatola  ...  [0.0007331066881306469, 0.018451927229762077, ...\n",
              "30  Lily Cottage, House 12/2, Siddeshwari Shudhi S...  ...  [0.010853608138859272, -0.04093807563185692, -...\n",
              "31  PBS building, 41 Shilpacharya Joynal Abedin sh...  ...  [-0.028707971796393394, -0.005955427885055542,...\n",
              "32  3/O\\nJk house\\nDhopa para moshzid \\n7/a dhanmondi  ...  [0.06597670912742615, -0.029420413076877594, -...\n",
              "33  LK Sunrise, Plot-1140-1142, Nurer Chala Main R...  ...  [0.00449508149176836, -0.03067682683467865, -0...\n",
              "34  C8, Tower 1, Premier Plaza(beside popular diag...  ...  [0.0015780964167788625, 0.012309919111430645, ...\n",
              "35            motaleb plaza paribag,block-b,flat-13/2  ...  [-0.03640051186084747, -0.008588689379394054, ...\n",
              "36  JIBON BIMA TOWER , 6TH FLOOR, 10 DILKUSHA , C....  ...  [0.003477655816823244, -0.022074587643146515, ...\n",
              "37   Cha-95/4/A, Sweet Arman, North Badda, Dhaka 1212  ...  [0.01731349527835846, -0.02458062767982483, -0...\n",
              "38  Building-Antomil, Ka-1, Kuril, Joar Shahara, D...  ...  [0.03427634388208389, -0.016446273773908615, 0...\n",
              "\n",
              "[39 rows x 6 columns]"
            ]
          },
          "metadata": {
            "tags": []
          },
          "execution_count": 64
        }
      ]
    },
    {
      "cell_type": "code",
      "metadata": {
        "id": "KpurPXohChFp",
        "colab_type": "code",
        "colab": {}
      },
      "source": [
        "def get_scores(session, questions):\n",
        "    emba, embb, scores = session.run(\n",
        "        [sts_encode1, sts_encode2, sim_scores],\n",
        "        feed_dict={\n",
        "            sts_input1: questions['new'].tolist(),\n",
        "            sts_input2: questions['Address'].tolist()\n",
        "        })\n",
        "    return (emba, embb, scores)"
      ],
      "execution_count": 0,
      "outputs": []
    },
    {
      "cell_type": "code",
      "metadata": {
        "id": "3BJcIdOcCy-i",
        "colab_type": "code",
        "colab": {}
      },
      "source": [
        "def bar_scores(rec_df):\n",
        "    objects = list(range(1, len(rec_df['Address'].tolist()) +1))\n",
        "    y_pos = np.arange(len(objects))\n",
        "    performance = rec_df.index.values.tolist()\n",
        "    plt.figure(figsize=(15,10))\n",
        "    plt.bar(y_pos, performance, align='center', alpha=0.5)\n",
        "    plt.xticks(y_pos, objects)\n",
        "    plt.ylabel(rec_df['new'].tolist()[0])\n",
        "    plt.title('Top 10 Recommendations')\n",
        "    loc = -0.1\n",
        "    for i,res in enumerate(rec_df['Address'].tolist()):\n",
        "        plt.text(-0.7, loc, '{0}: {1}'.format(i+1, res), fontsize=15)\n",
        "        loc-=0.1\n",
        "    plt.show()"
      ],
      "execution_count": 0,
      "outputs": []
    },
    {
      "cell_type": "code",
      "metadata": {
        "id": "Lo4GZ0o8DJiA",
        "colab_type": "code",
        "colab": {}
      },
      "source": [
        "def pca_transform(recs):\n",
        "    pca = PCA(2) \n",
        "    queries = recs['Address'].tolist()\n",
        "    queries.append(recs['BuildingName'].tolist()[0])\n",
        "    \n",
        "    embeds1 = recs['emba'].tolist()\n",
        "    embeds2 = recs['embb'].tolist()\n",
        "    embeds2.append(embeds1[0])\n",
        "    projected = pca.fit_transform(embeds2)\n",
        "    plt.figure(figsize=(15,10))\n",
        "    x,y =zip(*projected.tolist())\n",
        "    plt.scatter(x,y)\n",
        "    plt.xlim(-0.8, 0.8)\n",
        "    plt.ylim(-0.8, 0.8)\n",
        "    for (i, (x,y)) in enumerate(zip(x,y)):\n",
        "        plt.text(x,y,queries[i], ha='center')\n",
        "    plt.xlabel(recs['BuildingName'].tolist()[0])\n",
        "    plt.ylabel(recs['new'].tolist()[0])\n",
        "    plt.show()"
      ],
      "execution_count": 0,
      "outputs": []
    },
    {
      "cell_type": "code",
      "metadata": {
        "id": "tiAjXEMSDydd",
        "colab_type": "code",
        "outputId": "5bc8c54f-2a23-4cc1-b0d9-d665eb8f483e",
        "colab": {
          "base_uri": "https://localhost:8080/",
          "height": 35
        }
      },
      "source": [
        "new = input()\n",
        "top_qs = 10"
      ],
      "execution_count": 0,
      "outputs": [
        {
          "output_type": "stream",
          "text": [
            "Partex Star Group\n"
          ],
          "name": "stdout"
        }
      ]
    },
    {
      "cell_type": "code",
      "metadata": {
        "id": "M1Ify4EFD8uw",
        "colab_type": "code",
        "outputId": "63fa2607-e7ff-44af-cc65-1a4a4799f04e",
        "colab": {
          "base_uri": "https://localhost:8080/",
          "height": 212
        }
      },
      "source": [
        "with tf.Session() as session:\n",
        "    qs_df = get_quora_qs()\n",
        "    qs_df[\"new\"] = new\n",
        "    session.run(tf.global_variables_initializer())\n",
        "    session.run(tf.tables_initializer())\n",
        "    emba, embb, scores = get_scores(session, qs_df)\n",
        "    qs_df['sim_score'] =  scores\n",
        "    qs_df['emba'] = np.array(emba).tolist()\n",
        "    qs_df['embb'] = np.array(embb).tolist()\n",
        "    sort_by_most_similar = qs_df.sort_values('sim_score', ascending=False)\n",
        "    print('{:<10} {:<10} {:<20}'.format('Result', 'Score', 'BuildingName'))\n",
        "    for i, s in enumerate(sort_by_most_similar.round(4).head(n=top_qs).iterrows()):\n",
        "        print('{:<10} {:<10.1f} {:<20}'.format(i+1, s[1][3]*100, s[1][1]))"
      ],
      "execution_count": 0,
      "outputs": [
        {
          "output_type": "stream",
          "text": [
            "Result     Score      BuildingName        \n",
            "1          71.0       Shanta Western Tower\n",
            "2          69.2       motaleb plaza       \n",
            "3          68.6       Rashid Complex      \n",
            "4          68.4       MRIDA VABAN         \n",
            "5          68.1       bikrampur plaza     \n",
            "6          66.9       Antomil             \n",
            "7          66.3       Queens Garden Home  \n",
            "8          65.4       rokeya tower        \n",
            "9          65.1       Ionic crescent      \n",
            "10         64.8       Khan Villa          \n"
          ],
          "name": "stdout"
        }
      ]
    },
    {
      "cell_type": "code",
      "metadata": {
        "id": "aKH7RdG6EZMa",
        "colab_type": "code",
        "colab": {}
      },
      "source": [
        ""
      ],
      "execution_count": 0,
      "outputs": []
    }
  ]
}